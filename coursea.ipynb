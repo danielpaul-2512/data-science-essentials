{
  "metadata": {
    "kernelspec": {
      "name": "python",
      "display_name": "Python (Pyodide)",
      "language": "python"
    },
    "language_info": {
      "codemirror_mode": {
        "name": "python",
        "version": 3
      },
      "file_extension": ".py",
      "mimetype": "text/x-python",
      "name": "python",
      "nbconvert_exporter": "python",
      "pygments_lexer": "ipython3",
      "version": "3.8"
    }
  },
  "nbformat_minor": 4,
  "nbformat": 4,
  "cells": [
    {
      "cell_type": "markdown",
      "source": "# Data Science Essentials Notebook\n\n## Introduction\nThis notebook provides an overview of data science languages libraries, tools, some arithmetic expression examples. The exercises will guide us through key aspects of data science programming.\n\n## Data Science Languages\n- Python\n- R\n- SQL\n- Julia\n- Scala\n## Data Science Libraries\n- NumPy\n- Pandas\n- Matplotlib\n- Scikit-learn\n- TensorFlow\n## Data Science Tools\n\n| Tool           | Description                              |\n|----------------|------------------------------------------|\n| Jupyter        | Interactive computing environment        |\n| RStudio        | IDE for R programming                    |\n| Apache Spark   | Unified analytics engine for big data    |\n| TensorFlow     | Open-source machine learning framework   |\n| Hadoop         | Framework for distributed storage and processing |\n## Arithmetic Expression Examples\nIn this section, we will demonstrate basic arithmetic operations such as addition and multiplication.\n# Multiplying and adding numbers\na = 5\nb = 3\nresult = (a * b) + a\nresult\n# Converting minutes to hours\nminutes = 150\nhours = minutes / 60\nhours\n## Objectives\n- Understand basic data science concepts.\n- Familiarize with common programming languages and libraries.\n- Perform simple arithmetic operations in code.\n- Convert time units using code.\n",
      "metadata": {}
    },
    {
      "cell_type": "markdown",
      "source": "Lakshmi Holla\n\nNiveditha Pandith",
      "metadata": {}
    },
    {
      "cell_type": "markdown",
      "source": "# author coursea",
      "metadata": {}
    },
    {
      "cell_type": "code",
      "source": "",
      "metadata": {
        "trusted": true
      },
      "outputs": [],
      "execution_count": null
    },
    {
      "cell_type": "code",
      "source": "",
      "metadata": {
        "trusted": true
      },
      "outputs": [],
      "execution_count": null
    }
  ]
}